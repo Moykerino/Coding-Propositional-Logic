{
 "cells": [
  {
   "cell_type": "markdown",
   "metadata": {},
   "source": [
    "<p> 1. <b>ENGLISH STATEMENT:</b> \n",
    "<br>Ask for additional fries and drinks to the order if the customer would buy a Cheese Burger Deluxe, also if they want a Cheese Burger Deluxe throw in a Sundae. Always remember to print the receipt for every transaction. </p>"
   ]
  },
  {
   "cell_type": "markdown",
   "metadata": {},
   "source": [
    "<p> \n",
    "    <b>WFF:</b>\n",
    "<br>P: The customer buys a Cheese Burger Deluxe with Sundae\n",
    "<br>Q: Ask for additional fries\n",
    "<br>R: Ask for additional drinks\n",
    "<br>S: Print the receipt \n",
    "<br>\n",
    "<br>$ P\\implies Q \\land R \\implies S$\n",
    "\n",
    "</p>\n"
   ]
  },
  {
   "cell_type": "markdown",
   "metadata": {},
   "source": [
    "<p> \n",
    "    <b>FLOWCHART:</b>"
   ]
  },
  {
   "cell_type": "markdown",
   "metadata": {},
   "source": [
    "<img src=\"Flowchart_of_Pedantic_Coding.png\">"
   ]
  },
  {
   "cell_type": "markdown",
   "metadata": {},
   "source": [
    "<p> <b> CODE:  </b> </p>"
   ]
  },
  {
   "cell_type": "code",
   "execution_count": 1,
   "metadata": {},
   "outputs": [
    {
     "name": "stdout",
     "output_type": "stream",
     "text": [
      "You Ordered: Cheese Burger Deluxe with Sundae and additional Fries and Drink\n"
     ]
    }
   ],
   "source": [
    "receipt = \"You Ordered: \"  \n",
    "Buy_CheeseBurgerDeluxe = True\n",
    "Buy_Fries = True\n",
    "Buy_Drink = True\n",
    "\n",
    "if Buy_CheeseBurgerDeluxe:\n",
    "    receipt = \"You Ordered: Cheese Burger Deluxe with Sundae\"\n",
    "    if Buy_Fries and Buy_Drink:\n",
    "        receipt = \"You Ordered: Cheese Burger Deluxe with Sundae and additional Fries and Drink\"\n",
    "        \n",
    "print(receipt) "
   ]
  },
  {
   "cell_type": "markdown",
   "metadata": {},
   "source": [
    "<p> 2. <b>PSEUDOCODE:</b> "
   ]
  },
  {
   "cell_type": "code",
   "execution_count": 14,
   "metadata": {},
   "outputs": [],
   "source": [
    "def transfer_to_resource(reservoir, pool):\n",
    "    if pool <= 10 and reservoir > 20:\n",
    "        pool = reservoir\n",
    "    return pool"
   ]
  },
  {
   "cell_type": "markdown",
   "metadata": {},
   "source": [
    "<p><b>ENGLISH STATEMENT:</b> \n",
    "<br>If pool is less than or equal to 10 and reservoir is greater than 20, then pool is equal to reservoir. </p>"
   ]
  },
  {
   "cell_type": "markdown",
   "metadata": {},
   "source": [
    "<p> \n",
    "    <b>WFF:</b>\n",
    "<br>P: Pool is less than 10\n",
    "<br>Q: Pool is equal to 10\n",
    "<br>R: Reservoir is greater than 20\n",
    "<br>S: Pool is equal to reservoir\n",
    "    <br>\n",
    "<br>$ (P\\lor Q) \\land R \\implies S$\n",
    "\n",
    "</p>"
   ]
  },
  {
   "cell_type": "markdown",
   "metadata": {},
   "source": []
  }
 ],
 "metadata": {
  "kernelspec": {
   "display_name": "Python 3",
   "language": "python",
   "name": "python3"
  },
  "language_info": {
   "codemirror_mode": {
    "name": "ipython",
    "version": 3
   },
   "file_extension": ".py",
   "mimetype": "text/x-python",
   "name": "python",
   "nbconvert_exporter": "python",
   "pygments_lexer": "ipython3",
   "version": "3.8.3"
  }
 },
 "nbformat": 4,
 "nbformat_minor": 4
}
